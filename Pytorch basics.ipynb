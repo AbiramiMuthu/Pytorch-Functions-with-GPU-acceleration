{
 "cells": [
  {
   "cell_type": "code",
   "execution_count": null,
   "metadata": {
    "id": "PMWkOAw_y0vc"
   },
   "outputs": [],
   "source": [
    "import torch"
   ]
  },
  {
   "cell_type": "code",
   "execution_count": null,
   "metadata": {
    "id": "W33MpPSvzJLc"
   },
   "outputs": [],
   "source": [
    "import numpy as np\n",
    "import matplotlib.pyplot as plt\n"
   ]
  },
  {
   "cell_type": "markdown",
   "metadata": {
    "id": "kLllRQlv3Lou"
   },
   "source": [
    "# Initializing Tensors"
   ]
  },
  {
   "cell_type": "code",
   "execution_count": null,
   "metadata": {
    "colab": {
     "base_uri": "https://localhost:8080/"
    },
    "executionInfo": {
     "elapsed": 914,
     "status": "ok",
     "timestamp": 1612250883967,
     "user": {
      "displayName": "Naveen Raj Nallasivam",
      "photoUrl": "https://lh3.googleusercontent.com/a-/AOh14GiFaEaxm1-TZWLx2pZMHbrWhLBPSNxjxOXq_YOumA=s64",
      "userId": "07112438438588129703"
     },
     "user_tz": -330
    },
    "id": "I4AR-BfHzYve",
    "outputId": "165c29d7-a91b-4ae2-b351-f0494ef6f2f6"
   },
   "outputs": [
    {
     "name": "stdout",
     "output_type": "stream",
     "text": [
      "tensor([[0., 0., 0.],\n",
      "        [0., 0., 0.]])\n",
      "tensor([[1., 1., 1.],\n",
      "        [1., 1., 1.]])\n",
      "tensor([[0.7904, 0.9810, 0.7436],\n",
      "        [0.8141, 0.8771, 0.2005]])\n",
      "tensor([[3.5373e-36, 0.0000e+00, 3.3631e-44],\n",
      "        [0.0000e+00,        nan, 0.0000e+00]])\n",
      "tensor([[0., 0., 0.],\n",
      "        [0., 0., 0.]])\n",
      "tensor([1.0000, 1.2000, 1.4000, 1.6000, 1.8000, 2.0000])\n",
      "tensor([[1, 2, 3],\n",
      "        [4, 5, 6],\n",
      "        [7, 8, 9]])\n"
     ]
    }
   ],
   "source": [
    "x=torch.zeros(2,3)\n",
    "print(x)\n",
    "\n",
    "y=torch.ones(2,3)\n",
    "print(y)\n",
    "\n",
    "z=torch.rand(2,3)\n",
    "print(z)\n",
    "\n",
    "m=torch.empty(2,3)\n",
    "print(m)\n",
    "\n",
    "n=torch.zeros_like(m)\n",
    "print(n)\n",
    "\n",
    "k=torch.linspace(1,2,steps=6)\n",
    "print(k)\n",
    "\n",
    "o=torch.tensor([[1,2,3],[4,5,6],[7,8,9]])\n",
    "print(o)"
   ]
  },
  {
   "cell_type": "markdown",
   "metadata": {
    "id": "TaU-e3mM3Tj5"
   },
   "source": [
    "# Slicing Tensors"
   ]
  },
  {
   "cell_type": "code",
   "execution_count": null,
   "metadata": {
    "colab": {
     "base_uri": "https://localhost:8080/"
    },
    "executionInfo": {
     "elapsed": 851,
     "status": "ok",
     "timestamp": 1612187802994,
     "user": {
      "displayName": "Naveen Raj Nallasivam",
      "photoUrl": "https://lh3.googleusercontent.com/a-/AOh14GiFaEaxm1-TZWLx2pZMHbrWhLBPSNxjxOXq_YOumA=s64",
      "userId": "07112438438588129703"
     },
     "user_tz": -330
    },
    "id": "t6ADran93Xnm",
    "outputId": "fe53138a-0136-4294-abc5-c781184bf37e"
   },
   "outputs": [
    {
     "name": "stdout",
     "output_type": "stream",
     "text": [
      "torch.Size([3, 3])\n"
     ]
    }
   ],
   "source": [
    "print(o.size())"
   ]
  },
  {
   "cell_type": "code",
   "execution_count": null,
   "metadata": {
    "colab": {
     "base_uri": "https://localhost:8080/"
    },
    "executionInfo": {
     "elapsed": 1175,
     "status": "ok",
     "timestamp": 1612187931780,
     "user": {
      "displayName": "Naveen Raj Nallasivam",
      "photoUrl": "https://lh3.googleusercontent.com/a-/AOh14GiFaEaxm1-TZWLx2pZMHbrWhLBPSNxjxOXq_YOumA=s64",
      "userId": "07112438438588129703"
     },
     "user_tz": -330
    },
    "id": "yUrohcj14Zm9",
    "outputId": "63f7b79b-af5c-4fd8-f344-32ac03b7902e"
   },
   "outputs": [
    {
     "name": "stdout",
     "output_type": "stream",
     "text": [
      "tensor([2, 5, 8])\n"
     ]
    }
   ],
   "source": [
    "print(o[:,1])"
   ]
  },
  {
   "cell_type": "code",
   "execution_count": null,
   "metadata": {
    "colab": {
     "base_uri": "https://localhost:8080/"
    },
    "executionInfo": {
     "elapsed": 1054,
     "status": "ok",
     "timestamp": 1612187996406,
     "user": {
      "displayName": "Naveen Raj Nallasivam",
      "photoUrl": "https://lh3.googleusercontent.com/a-/AOh14GiFaEaxm1-TZWLx2pZMHbrWhLBPSNxjxOXq_YOumA=s64",
      "userId": "07112438438588129703"
     },
     "user_tz": -330
    },
    "id": "dmmesnZY4gbS",
    "outputId": "d748c1be-3c7b-46bd-b483-6a045a47e922"
   },
   "outputs": [
    {
     "name": "stdout",
     "output_type": "stream",
     "text": [
      "tensor([7, 8, 9])\n"
     ]
    }
   ],
   "source": [
    "print(o[2,:])"
   ]
  },
  {
   "cell_type": "code",
   "execution_count": null,
   "metadata": {
    "colab": {
     "base_uri": "https://localhost:8080/"
    },
    "executionInfo": {
     "elapsed": 920,
     "status": "ok",
     "timestamp": 1612188089028,
     "user": {
      "displayName": "Naveen Raj Nallasivam",
      "photoUrl": "https://lh3.googleusercontent.com/a-/AOh14GiFaEaxm1-TZWLx2pZMHbrWhLBPSNxjxOXq_YOumA=s64",
      "userId": "07112438438588129703"
     },
     "user_tz": -330
    },
    "id": "3yOHahSD4_Vp",
    "outputId": "b7ca0900-f68c-4629-89ac-a6ce5f391017"
   },
   "outputs": [
    {
     "name": "stdout",
     "output_type": "stream",
     "text": [
      "tensor([5, 6])\n"
     ]
    }
   ],
   "source": [
    "print(o[1,1:3])"
   ]
  },
  {
   "cell_type": "code",
   "execution_count": null,
   "metadata": {
    "colab": {
     "base_uri": "https://localhost:8080/"
    },
    "executionInfo": {
     "elapsed": 894,
     "status": "ok",
     "timestamp": 1612188239741,
     "user": {
      "displayName": "Naveen Raj Nallasivam",
      "photoUrl": "https://lh3.googleusercontent.com/a-/AOh14GiFaEaxm1-TZWLx2pZMHbrWhLBPSNxjxOXq_YOumA=s64",
      "userId": "07112438438588129703"
     },
     "user_tz": -330
    },
    "id": "Ilf1MhCW5Xzd",
    "outputId": "86511ee8-f481-409a-b224-81fc624b74ce"
   },
   "outputs": [
    {
     "name": "stdout",
     "output_type": "stream",
     "text": [
      "tensor(3)\n"
     ]
    }
   ],
   "source": [
    "print(o[0,2])"
   ]
  },
  {
   "cell_type": "code",
   "execution_count": null,
   "metadata": {
    "colab": {
     "base_uri": "https://localhost:8080/"
    },
    "executionInfo": {
     "elapsed": 851,
     "status": "ok",
     "timestamp": 1612188282949,
     "user": {
      "displayName": "Naveen Raj Nallasivam",
      "photoUrl": "https://lh3.googleusercontent.com/a-/AOh14GiFaEaxm1-TZWLx2pZMHbrWhLBPSNxjxOXq_YOumA=s64",
      "userId": "07112438438588129703"
     },
     "user_tz": -330
    },
    "id": "nuEZ19AW5xsS",
    "outputId": "fe2da11a-8a66-47ad-ca4f-3709efad9968"
   },
   "outputs": [
    {
     "name": "stdout",
     "output_type": "stream",
     "text": [
      "3\n"
     ]
    }
   ],
   "source": [
    "print(o[0,2].item())"
   ]
  },
  {
   "cell_type": "code",
   "execution_count": null,
   "metadata": {
    "id": "Ik3BDs836Oyz"
   },
   "outputs": [],
   "source": []
  },
  {
   "cell_type": "markdown",
   "metadata": {
    "id": "Xpcw_ZSs6VLu"
   },
   "source": [
    "# Reshaping Tensors"
   ]
  },
  {
   "cell_type": "code",
   "execution_count": null,
   "metadata": {
    "colab": {
     "base_uri": "https://localhost:8080/"
    },
    "executionInfo": {
     "elapsed": 1061,
     "status": "ok",
     "timestamp": 1612188507831,
     "user": {
      "displayName": "Naveen Raj Nallasivam",
      "photoUrl": "https://lh3.googleusercontent.com/a-/AOh14GiFaEaxm1-TZWLx2pZMHbrWhLBPSNxjxOXq_YOumA=s64",
      "userId": "07112438438588129703"
     },
     "user_tz": -330
    },
    "id": "oxWu7T4E6Zj5",
    "outputId": "6e69e859-d75e-459b-c06e-e1d9f930a2f5"
   },
   "outputs": [
    {
     "name": "stdout",
     "output_type": "stream",
     "text": [
      "tensor([[1],\n",
      "        [2],\n",
      "        [3],\n",
      "        [4],\n",
      "        [5],\n",
      "        [6],\n",
      "        [7],\n",
      "        [8],\n",
      "        [9]])\n"
     ]
    }
   ],
   "source": [
    "print(o.view(9,1))"
   ]
  },
  {
   "cell_type": "code",
   "execution_count": null,
   "metadata": {
    "colab": {
     "base_uri": "https://localhost:8080/"
    },
    "executionInfo": {
     "elapsed": 884,
     "status": "ok",
     "timestamp": 1612188584090,
     "user": {
      "displayName": "Naveen Raj Nallasivam",
      "photoUrl": "https://lh3.googleusercontent.com/a-/AOh14GiFaEaxm1-TZWLx2pZMHbrWhLBPSNxjxOXq_YOumA=s64",
      "userId": "07112438438588129703"
     },
     "user_tz": -330
    },
    "id": "JH-HYGFc7Fpb",
    "outputId": "4257500e-1de4-450b-84c2-fca5216039ae"
   },
   "outputs": [
    {
     "name": "stdout",
     "output_type": "stream",
     "text": [
      "tensor([[1, 2, 3, 4, 5, 6, 7, 8, 9]])\n"
     ]
    }
   ],
   "source": [
    "print(o.view(1,-1))"
   ]
  },
  {
   "cell_type": "code",
   "execution_count": null,
   "metadata": {
    "id": "3iSFHBqQ7J_w"
   },
   "outputs": [],
   "source": []
  },
  {
   "cell_type": "markdown",
   "metadata": {
    "id": "ZqGaKkfI96PB"
   },
   "source": [
    "# Simple Operations"
   ]
  },
  {
   "cell_type": "code",
   "execution_count": null,
   "metadata": {
    "colab": {
     "base_uri": "https://localhost:8080/"
    },
    "executionInfo": {
     "elapsed": 1070,
     "status": "ok",
     "timestamp": 1612189341068,
     "user": {
      "displayName": "Naveen Raj Nallasivam",
      "photoUrl": "https://lh3.googleusercontent.com/a-/AOh14GiFaEaxm1-TZWLx2pZMHbrWhLBPSNxjxOXq_YOumA=s64",
      "userId": "07112438438588129703"
     },
     "user_tz": -330
    },
    "id": "QqcTt65n998G",
    "outputId": "0bcdcc30-4b84-4b29-a7d0-5d08ee4b575c"
   },
   "outputs": [
    {
     "name": "stdout",
     "output_type": "stream",
     "text": [
      "tensor([[ 5,  7,  9],\n",
      "        [11, 13, 15]])\n",
      "tensor([[3, 3, 3],\n",
      "        [3, 3, 3]])\n",
      "tensor([[ 4, 10, 18],\n",
      "        [28, 40, 54]])\n"
     ]
    }
   ],
   "source": [
    "a=torch.tensor([[4,5,6],[7,8,9]])\n",
    "b=torch.tensor([[1,2,3],[4,5,6]])\n",
    "print(a+b)\n",
    "print(a-b)\n",
    "print(a*b)"
   ]
  },
  {
   "cell_type": "code",
   "execution_count": null,
   "metadata": {
    "colab": {
     "base_uri": "https://localhost:8080/"
    },
    "executionInfo": {
     "elapsed": 682,
     "status": "ok",
     "timestamp": 1612189417986,
     "user": {
      "displayName": "Naveen Raj Nallasivam",
      "photoUrl": "https://lh3.googleusercontent.com/a-/AOh14GiFaEaxm1-TZWLx2pZMHbrWhLBPSNxjxOXq_YOumA=s64",
      "userId": "07112438438588129703"
     },
     "user_tz": -330
    },
    "id": "lkIpuBay-REL",
    "outputId": "1c064893-a13f-4437-f759-78895e81709e"
   },
   "outputs": [
    {
     "name": "stdout",
     "output_type": "stream",
     "text": [
      "tensor([[ 5,  7,  9],\n",
      "        [11, 13, 15]])\n"
     ]
    }
   ],
   "source": [
    "z=a.add(b)\n",
    "print(z)"
   ]
  },
  {
   "cell_type": "code",
   "execution_count": null,
   "metadata": {
    "colab": {
     "base_uri": "https://localhost:8080/"
    },
    "executionInfo": {
     "elapsed": 1008,
     "status": "ok",
     "timestamp": 1612189426743,
     "user": {
      "displayName": "Naveen Raj Nallasivam",
      "photoUrl": "https://lh3.googleusercontent.com/a-/AOh14GiFaEaxm1-TZWLx2pZMHbrWhLBPSNxjxOXq_YOumA=s64",
      "userId": "07112438438588129703"
     },
     "user_tz": -330
    },
    "id": "nAuxJ-GE-j8F",
    "outputId": "da736559-cb9a-4ac7-cd87-b2424d1f9b6b"
   },
   "outputs": [
    {
     "name": "stdout",
     "output_type": "stream",
     "text": [
      "tensor([[4, 5, 6],\n",
      "        [7, 8, 9]])\n"
     ]
    }
   ],
   "source": [
    "print(a)"
   ]
  },
  {
   "cell_type": "code",
   "execution_count": null,
   "metadata": {
    "colab": {
     "base_uri": "https://localhost:8080/"
    },
    "executionInfo": {
     "elapsed": 923,
     "status": "ok",
     "timestamp": 1612189456894,
     "user": {
      "displayName": "Naveen Raj Nallasivam",
      "photoUrl": "https://lh3.googleusercontent.com/a-/AOh14GiFaEaxm1-TZWLx2pZMHbrWhLBPSNxjxOXq_YOumA=s64",
      "userId": "07112438438588129703"
     },
     "user_tz": -330
    },
    "id": "jdnxYiUQ-l_2",
    "outputId": "8ae51bc3-93a8-40c5-f0f5-9b8f6b4d5f9d"
   },
   "outputs": [
    {
     "name": "stdout",
     "output_type": "stream",
     "text": [
      "tensor([[ 5,  7,  9],\n",
      "        [11, 13, 15]])\n",
      "tensor([[ 5,  7,  9],\n",
      "        [11, 13, 15]])\n"
     ]
    }
   ],
   "source": [
    "z=a.add_(b)\n",
    "print(z)\n",
    "print(a)"
   ]
  },
  {
   "cell_type": "code",
   "execution_count": null,
   "metadata": {
    "id": "gSbolLegTGdo"
   },
   "outputs": [],
   "source": []
  },
  {
   "cell_type": "markdown",
   "metadata": {
    "id": "jH6yqmSrUaeO"
   },
   "source": [
    "# Numpy<>torch "
   ]
  },
  {
   "cell_type": "code",
   "execution_count": null,
   "metadata": {
    "id": "ddIDd6V9UgDF"
   },
   "outputs": [],
   "source": [
    "npk=np.ones((2,3))"
   ]
  },
  {
   "cell_type": "code",
   "execution_count": null,
   "metadata": {
    "id": "PCr4nP4yUoma"
   },
   "outputs": [],
   "source": [
    "torchk=torch.zeros(2,3)"
   ]
  },
  {
   "cell_type": "code",
   "execution_count": null,
   "metadata": {
    "colab": {
     "base_uri": "https://localhost:8080/"
    },
    "executionInfo": {
     "elapsed": 867,
     "status": "ok",
     "timestamp": 1612196222609,
     "user": {
      "displayName": "Naveen Raj Nallasivam",
      "photoUrl": "https://lh3.googleusercontent.com/a-/AOh14GiFaEaxm1-TZWLx2pZMHbrWhLBPSNxjxOXq_YOumA=s64",
      "userId": "07112438438588129703"
     },
     "user_tz": -330
    },
    "id": "7zZsZCYtUvSe",
    "outputId": "f081b232-7229-4426-b3c5-0ad386b1037b"
   },
   "outputs": [
    {
     "name": "stdout",
     "output_type": "stream",
     "text": [
      "[[0. 0. 0.]\n",
      " [0. 0. 0.]]\n",
      "tensor([[1., 1., 1.],\n",
      "        [1., 1., 1.]], dtype=torch.float64)\n",
      "<class 'numpy.ndarray'>\n",
      "<class 'torch.Tensor'>\n"
     ]
    }
   ],
   "source": [
    "new_numpy=torchk.numpy()\n",
    "new_torch=torch.from_numpy(npk)\n",
    "print(new_numpy)\n",
    "print(new_torch)\n",
    "print(type(new_numpy))\n",
    "print(type(new_torch))"
   ]
  },
  {
   "cell_type": "code",
   "execution_count": null,
   "metadata": {
    "colab": {
     "base_uri": "https://localhost:8080/"
    },
    "executionInfo": {
     "elapsed": 909,
     "status": "ok",
     "timestamp": 1612196503896,
     "user": {
      "displayName": "Naveen Raj Nallasivam",
      "photoUrl": "https://lh3.googleusercontent.com/a-/AOh14GiFaEaxm1-TZWLx2pZMHbrWhLBPSNxjxOXq_YOumA=s64",
      "userId": "07112438438588129703"
     },
     "user_tz": -330
    },
    "id": "tNTq8YvGYhLO",
    "outputId": "4b5ac303-e7ff-4cd8-e301-e8f21f7454e1"
   },
   "outputs": [
    {
     "data": {
      "text/plain": [
       "array([[1., 1., 1.],\n",
       "       [1., 1., 1.]], dtype=float32)"
      ]
     },
     "execution_count": 48,
     "metadata": {
      "tags": []
     },
     "output_type": "execute_result"
    }
   ],
   "source": [
    "np.add(new_numpy,1,out=new_numpy)"
   ]
  },
  {
   "cell_type": "code",
   "execution_count": null,
   "metadata": {
    "colab": {
     "base_uri": "https://localhost:8080/"
    },
    "executionInfo": {
     "elapsed": 916,
     "status": "ok",
     "timestamp": 1612197085670,
     "user": {
      "displayName": "Naveen Raj Nallasivam",
      "photoUrl": "https://lh3.googleusercontent.com/a-/AOh14GiFaEaxm1-TZWLx2pZMHbrWhLBPSNxjxOXq_YOumA=s64",
      "userId": "07112438438588129703"
     },
     "user_tz": -330
    },
    "id": "SohObZHJZvy1",
    "outputId": "3d84b1f8-1b09-44c9-fcef-39c0ea95f4a3"
   },
   "outputs": [
    {
     "data": {
      "text/plain": [
       "array([[2., 2., 2.],\n",
       "       [2., 2., 2.]], dtype=float32)"
      ]
     },
     "execution_count": 50,
     "metadata": {
      "tags": []
     },
     "output_type": "execute_result"
    }
   ],
   "source": [
    "np.add(new_numpy,1)\n"
   ]
  },
  {
   "cell_type": "code",
   "execution_count": null,
   "metadata": {
    "colab": {
     "base_uri": "https://localhost:8080/"
    },
    "executionInfo": {
     "elapsed": 920,
     "status": "ok",
     "timestamp": 1612197089347,
     "user": {
      "displayName": "Naveen Raj Nallasivam",
      "photoUrl": "https://lh3.googleusercontent.com/a-/AOh14GiFaEaxm1-TZWLx2pZMHbrWhLBPSNxjxOXq_YOumA=s64",
      "userId": "07112438438588129703"
     },
     "user_tz": -330
    },
    "id": "6PDOYRkFZD-s",
    "outputId": "2c4d61ec-c450-4ba2-a469-0197e2d4c268"
   },
   "outputs": [
    {
     "data": {
      "text/plain": [
       "tensor([[1., 1., 1.],\n",
       "        [1., 1., 1.]])"
      ]
     },
     "execution_count": 51,
     "metadata": {
      "tags": []
     },
     "output_type": "execute_result"
    }
   ],
   "source": [
    "torchk"
   ]
  },
  {
   "cell_type": "code",
   "execution_count": null,
   "metadata": {
    "colab": {
     "base_uri": "https://localhost:8080/"
    },
    "executionInfo": {
     "elapsed": 873,
     "status": "ok",
     "timestamp": 1612197402262,
     "user": {
      "displayName": "Naveen Raj Nallasivam",
      "photoUrl": "https://lh3.googleusercontent.com/a-/AOh14GiFaEaxm1-TZWLx2pZMHbrWhLBPSNxjxOXq_YOumA=s64",
      "userId": "07112438438588129703"
     },
     "user_tz": -330
    },
    "id": "goEubngoZN4G",
    "outputId": "4c3865f1-ebed-4fd1-b9e8-7e9d266c7056"
   },
   "outputs": [
    {
     "name": "stdout",
     "output_type": "stream",
     "text": [
      "CPU times: user 152 ms, sys: 124 ms, total: 276 ms\n",
      "Wall time: 158 ms\n"
     ]
    }
   ],
   "source": [
    "%%time\n",
    "for i in range(100):\n",
    "  a=np.random.randn(100,100)\n",
    "  b=np.random.randn(100,100)\n",
    "  np.matmul(a,b)"
   ]
  },
  {
   "cell_type": "code",
   "execution_count": null,
   "metadata": {
    "colab": {
     "base_uri": "https://localhost:8080/"
    },
    "executionInfo": {
     "elapsed": 834,
     "status": "ok",
     "timestamp": 1612197319723,
     "user": {
      "displayName": "Naveen Raj Nallasivam",
      "photoUrl": "https://lh3.googleusercontent.com/a-/AOh14GiFaEaxm1-TZWLx2pZMHbrWhLBPSNxjxOXq_YOumA=s64",
      "userId": "07112438438588129703"
     },
     "user_tz": -330
    },
    "id": "1VH59QGYcM6P",
    "outputId": "cbe5ca21-e3dc-40d0-e22d-8b40c3b21eb2"
   },
   "outputs": [
    {
     "name": "stdout",
     "output_type": "stream",
     "text": [
      "CPU times: user 27.5 ms, sys: 0 ns, total: 27.5 ms\n",
      "Wall time: 32.2 ms\n"
     ]
    }
   ],
   "source": [
    "%%time\n",
    "for i in range(100):\n",
    "  a=torch.randn(100,100)\n",
    "  b=torch.randn(100,100)\n",
    "  torch.matmul(a,b)"
   ]
  },
  {
   "cell_type": "code",
   "execution_count": null,
   "metadata": {
    "id": "znSyw0b3ctCe"
   },
   "outputs": [],
   "source": []
  },
  {
   "cell_type": "markdown",
   "metadata": {
    "id": "z7pPg2BGs32O"
   },
   "source": [
    "# GPU"
   ]
  },
  {
   "cell_type": "code",
   "execution_count": null,
   "metadata": {
    "colab": {
     "base_uri": "https://localhost:8080/"
    },
    "executionInfo": {
     "elapsed": 900,
     "status": "ok",
     "timestamp": 1612335855000,
     "user": {
      "displayName": "Abirami Muthu",
      "photoUrl": "",
      "userId": "12714011449706528785"
     },
     "user_tz": -330
    },
    "id": "tbxTdjHWs5-4",
    "outputId": "85e2c352-3843-4add-e904-0a50bddf2361"
   },
   "outputs": [
    {
     "name": "stdout",
     "output_type": "stream",
     "text": [
      "1\n"
     ]
    }
   ],
   "source": [
    "print(torch.cuda.device_count())"
   ]
  },
  {
   "cell_type": "code",
   "execution_count": null,
   "metadata": {
    "colab": {
     "base_uri": "https://localhost:8080/"
    },
    "executionInfo": {
     "elapsed": 793,
     "status": "ok",
     "timestamp": 1612335875112,
     "user": {
      "displayName": "Abirami Muthu",
      "photoUrl": "",
      "userId": "12714011449706528785"
     },
     "user_tz": -330
    },
    "id": "eRN8kA-9tBVx",
    "outputId": "892a77b8-e2b7-4f68-d848-178e498f7486"
   },
   "outputs": [
    {
     "name": "stdout",
     "output_type": "stream",
     "text": [
      "Tesla P100-PCIE-16GB\n"
     ]
    }
   ],
   "source": [
    "print(torch.cuda.get_device_name(0))"
   ]
  },
  {
   "cell_type": "code",
   "execution_count": null,
   "metadata": {
    "id": "p-nvXbd4tQC0"
   },
   "outputs": [],
   "source": [
    "#adding reference to device\n",
    "cuda0=torch.device('cuda:0')"
   ]
  },
  {
   "cell_type": "code",
   "execution_count": null,
   "metadata": {
    "colab": {
     "base_uri": "https://localhost:8080/"
    },
    "executionInfo": {
     "elapsed": 10851,
     "status": "ok",
     "timestamp": 1612336772605,
     "user": {
      "displayName": "Abirami Muthu",
      "photoUrl": "",
      "userId": "12714011449706528785"
     },
     "user_tz": -330
    },
    "id": "Favo11zpwMl_",
    "outputId": "3cc67e2b-8faa-4423-ce47-5e5316864c29"
   },
   "outputs": [
    {
     "name": "stdout",
     "output_type": "stream",
     "text": [
      "tensor([[2., 2.],\n",
      "        [2., 2.],\n",
      "        [2., 2.]], device='cuda:0')\n"
     ]
    }
   ],
   "source": [
    "a=torch.ones(3,2,device=cuda0)\n",
    "b=torch.ones(3,2,device=cuda0)\n",
    "c=a+b\n",
    "print(c)"
   ]
  },
  {
   "cell_type": "code",
   "execution_count": null,
   "metadata": {
    "colab": {
     "base_uri": "https://localhost:8080/"
    },
    "executionInfo": {
     "elapsed": 20076,
     "status": "ok",
     "timestamp": 1612337031025,
     "user": {
      "displayName": "Abirami Muthu",
      "photoUrl": "",
      "userId": "12714011449706528785"
     },
     "user_tz": -330
    },
    "id": "VdazlGkzwkuX",
    "outputId": "7ef05943-4ce8-41cf-d91b-d7da937534bb"
   },
   "outputs": [
    {
     "name": "stdout",
     "output_type": "stream",
     "text": [
      "CPU times: user 19.1 s, sys: 42 ms, total: 19.2 s\n",
      "Wall time: 19.2 s\n"
     ]
    }
   ],
   "source": [
    "#checkin the performance\n",
    "#in CPU\n",
    "%%time\n",
    "for i in range(10):\n",
    "  a=torch.randn(10000,10000)\n",
    "  b=torch.randn(10000,10000)\n",
    "  b.add_(a)"
   ]
  },
  {
   "cell_type": "code",
   "execution_count": null,
   "metadata": {
    "colab": {
     "base_uri": "https://localhost:8080/"
    },
    "executionInfo": {
     "elapsed": 798,
     "status": "ok",
     "timestamp": 1612337036809,
     "user": {
      "displayName": "Abirami Muthu",
      "photoUrl": "",
      "userId": "12714011449706528785"
     },
     "user_tz": -330
    },
    "id": "Vn7FvzFCxSrv",
    "outputId": "d0d19691-cfae-4595-f485-57c4190aae11"
   },
   "outputs": [
    {
     "name": "stdout",
     "output_type": "stream",
     "text": [
      "CPU times: user 1.43 ms, sys: 9.05 ms, total: 10.5 ms\n",
      "Wall time: 17.6 ms\n"
     ]
    }
   ],
   "source": [
    "#checkin the performance\n",
    "#in GPU\n",
    "%%time\n",
    "for i in range(10):\n",
    "  a=torch.randn(10000,10000,device=cuda0)\n",
    "  b=torch.randn(10000,10000,device=cuda0)\n",
    "  b.add_(a)"
   ]
  },
  {
   "cell_type": "code",
   "execution_count": null,
   "metadata": {
    "colab": {
     "base_uri": "https://localhost:8080/"
    },
    "executionInfo": {
     "elapsed": 85668,
     "status": "ok",
     "timestamp": 1612337468447,
     "user": {
      "displayName": "Abirami Muthu",
      "photoUrl": "",
      "userId": "12714011449706528785"
     },
     "user_tz": -330
    },
    "id": "RGdVgp4ixrqn",
    "outputId": "5c26619f-76c7-4eca-e3ec-8fc14b3729af"
   },
   "outputs": [
    {
     "name": "stdout",
     "output_type": "stream",
     "text": [
      "CPU times: user 7min 22s, sys: 1.89 s, total: 7min 24s\n",
      "Wall time: 3min 53s\n"
     ]
    }
   ],
   "source": [
    "%%time\n",
    "for i in range(10):\n",
    "  a=torch.randn(10000,10000)\n",
    "  b=torch.randn(10000,10000)\n",
    "  np.matmul(a,b)"
   ]
  },
  {
   "cell_type": "code",
   "execution_count": null,
   "metadata": {
    "id": "s2lw1pi6yWp9"
   },
   "outputs": [],
   "source": [
    "%%time\n",
    "for i in range(10):\n",
    "  a=torch.randn(10000,10000,device=cuda0)\n",
    "  b=torch.randn(10000,10000,device=cuda0)\n",
    "  torch.matmul(a,b)"
   ]
  },
  {
   "cell_type": "markdown",
   "metadata": {
    "id": "GmM9CCUe5zDb"
   },
   "source": [
    "# Autograd"
   ]
  },
  {
   "cell_type": "code",
   "execution_count": null,
   "metadata": {
    "colab": {
     "base_uri": "https://localhost:8080/"
    },
    "executionInfo": {
     "elapsed": 1268,
     "status": "ok",
     "timestamp": 1612339215772,
     "user": {
      "displayName": "Abirami Muthu",
      "photoUrl": "",
      "userId": "12714011449706528785"
     },
     "user_tz": -330
    },
    "id": "5yAp6shK510v",
    "outputId": "ba647e86-3cd6-4b4d-c4bd-3cd28d3f3b2b"
   },
   "outputs": [
    {
     "name": "stdout",
     "output_type": "stream",
     "text": [
      "tensor([[1., 1.],\n",
      "        [1., 1.],\n",
      "        [1., 1.]], requires_grad=True)\n"
     ]
    }
   ],
   "source": [
    "x=torch.ones(3,2,requires_grad=True)\n",
    "print(x)"
   ]
  },
  {
   "cell_type": "code",
   "execution_count": null,
   "metadata": {
    "colab": {
     "base_uri": "https://localhost:8080/"
    },
    "executionInfo": {
     "elapsed": 848,
     "status": "ok",
     "timestamp": 1612339231354,
     "user": {
      "displayName": "Abirami Muthu",
      "photoUrl": "",
      "userId": "12714011449706528785"
     },
     "user_tz": -330
    },
    "id": "HqTFMEcw5_he",
    "outputId": "2d0e5d73-01dc-48c1-8eae-4141db6fb074"
   },
   "outputs": [
    {
     "name": "stdout",
     "output_type": "stream",
     "text": [
      "tensor([[2., 2.],\n",
      "        [2., 2.],\n",
      "        [2., 2.]], grad_fn=<AddBackward0>)\n"
     ]
    }
   ],
   "source": [
    "y=x+1\n",
    "print(y)"
   ]
  },
  {
   "cell_type": "code",
   "execution_count": null,
   "metadata": {
    "colab": {
     "base_uri": "https://localhost:8080/"
    },
    "executionInfo": {
     "elapsed": 1036,
     "status": "ok",
     "timestamp": 1612339251327,
     "user": {
      "displayName": "Abirami Muthu",
      "photoUrl": "",
      "userId": "12714011449706528785"
     },
     "user_tz": -330
    },
    "id": "NBREsyn06DTF",
    "outputId": "852c466c-2458-4ee4-ae82-9e535122e154"
   },
   "outputs": [
    {
     "name": "stdout",
     "output_type": "stream",
     "text": [
      "tensor([[5., 5.],\n",
      "        [5., 5.],\n",
      "        [5., 5.]], grad_fn=<AddBackward0>)\n"
     ]
    }
   ],
   "source": [
    "z=y*y+1\n",
    "print(z)"
   ]
  },
  {
   "cell_type": "code",
   "execution_count": null,
   "metadata": {
    "colab": {
     "base_uri": "https://localhost:8080/"
    },
    "executionInfo": {
     "elapsed": 1019,
     "status": "ok",
     "timestamp": 1612339274426,
     "user": {
      "displayName": "Abirami Muthu",
      "photoUrl": "",
      "userId": "12714011449706528785"
     },
     "user_tz": -330
    },
    "id": "u41nyxXB6IM9",
    "outputId": "ff0d9c70-4dd3-4b90-a79d-e865d1c423cf"
   },
   "outputs": [
    {
     "name": "stdout",
     "output_type": "stream",
     "text": [
      "tensor(30., grad_fn=<SumBackward0>)\n"
     ]
    }
   ],
   "source": [
    "t=torch.sum(z)\n",
    "print(t)"
   ]
  },
  {
   "cell_type": "code",
   "execution_count": null,
   "metadata": {
    "id": "HqwO5CpQ6N6A"
   },
   "outputs": [],
   "source": [
    "t.backward()"
   ]
  },
  {
   "cell_type": "code",
   "execution_count": null,
   "metadata": {
    "colab": {
     "base_uri": "https://localhost:8080/"
    },
    "executionInfo": {
     "elapsed": 926,
     "status": "ok",
     "timestamp": 1612339309890,
     "user": {
      "displayName": "Abirami Muthu",
      "photoUrl": "",
      "userId": "12714011449706528785"
     },
     "user_tz": -330
    },
    "id": "aEh3PK3H6QtG",
    "outputId": "d4feffc8-d60f-4ea6-d47a-fc2898dbe3ce"
   },
   "outputs": [
    {
     "name": "stdout",
     "output_type": "stream",
     "text": [
      "tensor([[4., 4.],\n",
      "        [4., 4.],\n",
      "        [4., 4.]])\n"
     ]
    }
   ],
   "source": [
    "print(x.grad)"
   ]
  },
  {
   "cell_type": "code",
   "execution_count": null,
   "metadata": {
    "colab": {
     "base_uri": "https://localhost:8080/"
    },
    "executionInfo": {
     "elapsed": 805,
     "status": "ok",
     "timestamp": 1612340079127,
     "user": {
      "displayName": "Abirami Muthu",
      "photoUrl": "",
      "userId": "12714011449706528785"
     },
     "user_tz": -330
    },
    "id": "C5XRV5Up6Wlf",
    "outputId": "2f6ffa00-f750-427b-af51-aa3421dce25e"
   },
   "outputs": [
    {
     "name": "stdout",
     "output_type": "stream",
     "text": [
      "tensor([[0.9975, 0.9975],\n",
      "        [0.9975, 0.9975],\n",
      "        [0.9975, 0.9975]], grad_fn=<MulBackward0>)\n",
      "tensor([[0.0025, 0.0025],\n",
      "        [0.0025, 0.0025],\n",
      "        [0.0025, 0.0025]])\n"
     ]
    }
   ],
   "source": [
    "x=torch.ones(3,2,requires_grad=True)\n",
    "y=x+5\n",
    "r=1/(1+torch.exp(-y))\n",
    "print(r)\n",
    "s=torch.sum(r)\n",
    "s.backward()\n",
    "print(x.grad)"
   ]
  },
  {
   "cell_type": "code",
   "execution_count": null,
   "metadata": {
    "colab": {
     "base_uri": "https://localhost:8080/"
    },
    "executionInfo": {
     "elapsed": 847,
     "status": "ok",
     "timestamp": 1612340530729,
     "user": {
      "displayName": "Abirami Muthu",
      "photoUrl": "",
      "userId": "12714011449706528785"
     },
     "user_tz": -330
    },
    "id": "do4A8br19SZ4",
    "outputId": "ba5fce5a-f159-4072-fe1e-40eb796fddb7"
   },
   "outputs": [
    {
     "name": "stdout",
     "output_type": "stream",
     "text": [
      "tensor([[0.0025, 0.0025],\n",
      "        [0.0025, 0.0025],\n",
      "        [0.0025, 0.0025]])\n"
     ]
    }
   ],
   "source": [
    "x=torch.ones(3,2,requires_grad=True)\n",
    "y=x+5\n",
    "r=1/(1+torch.exp(-y))\n",
    "a=torch.ones(3,2)\n",
    "r.backward(a)\n",
    "print(x.grad)"
   ]
  },
  {
   "cell_type": "markdown",
   "metadata": {
    "id": "ssB6wi9YQOy6"
   },
   "source": [
    "# Autograd Example"
   ]
  },
  {
   "cell_type": "code",
   "execution_count": null,
   "metadata": {
    "id": "zfjC5GePQOZr"
   },
   "outputs": [],
   "source": [
    "x=torch.randn(20,1,requires_grad=True)\n",
    "y=3*x-2"
   ]
  },
  {
   "cell_type": "code",
   "execution_count": null,
   "metadata": {
    "id": "lc4P4j4NQ1eN"
   },
   "outputs": [],
   "source": [
    "w=torch.tensor([1.],requires_grad=True)\n",
    "b=torch.tensor([1.],requires_grad=True)\n",
    "y_hat=w*x+b"
   ]
  },
  {
   "cell_type": "code",
   "execution_count": null,
   "metadata": {
    "id": "nLKsG-lsRXua"
   },
   "outputs": [],
   "source": [
    "loss=torch.sum((y_hat-y)**2)"
   ]
  },
  {
   "cell_type": "code",
   "execution_count": null,
   "metadata": {
    "id": "EronHCtLRjnm"
   },
   "outputs": [],
   "source": [
    "loss.backward()"
   ]
  },
  {
   "cell_type": "code",
   "execution_count": null,
   "metadata": {
    "colab": {
     "base_uri": "https://localhost:8080/"
    },
    "executionInfo": {
     "elapsed": 1769,
     "status": "ok",
     "timestamp": 1612363083055,
     "user": {
      "displayName": "Abirami Muthu",
      "photoUrl": "",
      "userId": "12714011449706528785"
     },
     "user_tz": -330
    },
    "id": "pvKMvB_VU2M3",
    "outputId": "ec596970-837b-48df-cc41-aadf7cadc076"
   },
   "outputs": [
    {
     "name": "stdout",
     "output_type": "stream",
     "text": [
      "tensor([-180.0669]) tensor([113.1051])\n"
     ]
    }
   ],
   "source": [
    "print(w.grad,b.grad)"
   ]
  },
  {
   "cell_type": "markdown",
   "metadata": {
    "id": "2T7AB942aDwG"
   },
   "source": [
    "# Autograd for multiple epochs"
   ]
  },
  {
   "cell_type": "code",
   "execution_count": null,
   "metadata": {
    "colab": {
     "base_uri": "https://localhost:8080/"
    },
    "executionInfo": {
     "elapsed": 1013,
     "status": "ok",
     "timestamp": 1612365148348,
     "user": {
      "displayName": "Abirami Muthu",
      "photoUrl": "",
      "userId": "12714011449706528785"
     },
     "user_tz": -330
    },
    "id": "g2inbIdhVCGu",
    "outputId": "40ff5f13-c1b8-4a46-c700-f32f18a2529d"
   },
   "outputs": [
    {
     "name": "stdout",
     "output_type": "stream",
     "text": [
      "1.0 1.0\n",
      "1.670335292816162 0.003726065158843994\n",
      "1.9936213493347168 -0.664527416229248\n",
      "2.405733108520508 -1.129776120185852\n",
      "2.692349910736084 -1.4529149532318115\n",
      "2.755463123321533 -1.6415956020355225\n",
      "2.7936341762542725 -1.7469021081924438\n",
      "2.8727641105651855 -1.8484106063842773\n",
      "2.90238881111145 -1.8928601741790771\n",
      "2.9165399074554443 -1.9273927211761475\n",
      "2.9672601222991943 -1.9688854217529297\n",
      "2.9751973152160645 -1.9746429920196533\n",
      "2.985255002975464 -1.9847643375396729\n",
      "2.9902915954589844 -1.9911165237426758\n",
      "2.992825984954834 -1.9948328733444214\n",
      "2.9957480430603027 -1.9970167875289917\n",
      "2.9966073036193848 -1.9979584217071533\n",
      "2.998479127883911 -1.9986103773117065\n",
      "2.999054431915283 -1.9991519451141357\n",
      "2.999330759048462 -1.999354600906372\n",
      "2.9995553493499756 -1.9996817111968994\n"
     ]
    }
   ],
   "source": [
    "learning_rate=0.01\n",
    "\n",
    "w=torch.tensor([1.],requires_grad=True)\n",
    "b=torch.tensor([1.],requires_grad=True)\n",
    "\n",
    "print(w.item(),b.item())\n",
    "for i in range(20):\n",
    "  x=torch.randn(20,1)\n",
    "  y=3*x-2\n",
    "  y_hat=w*x+b\n",
    "  loss=torch.sum((y_hat-y)**2)\n",
    "\n",
    "  loss.backward()\n",
    "\n",
    "  with torch.no_grad():\n",
    "    w-=learning_rate*w.grad\n",
    "    b-=learning_rate*b.grad\n",
    "\n",
    "    w.grad.zero_()\n",
    "    b.grad.zero_()\n",
    "\n",
    "    print(w.item(),b.item())\n",
    "\n",
    "\n",
    "\n",
    "\n",
    "\n"
   ]
  },
  {
   "cell_type": "code",
   "execution_count": null,
   "metadata": {
    "id": "ftrmwxHJc6xO"
   },
   "outputs": [],
   "source": []
  },
  {
   "cell_type": "markdown",
   "metadata": {
    "id": "m5QSCUqJjAay"
   },
   "source": [
    "# Autograd for multiple epochs and multiple inputs and weights "
   ]
  },
  {
   "cell_type": "code",
   "execution_count": null,
   "metadata": {
    "colab": {
     "base_uri": "https://localhost:8080/"
    },
    "executionInfo": {
     "elapsed": 36620,
     "status": "ok",
     "timestamp": 1612368698983,
     "user": {
      "displayName": "Abirami Muthu",
      "photoUrl": "",
      "userId": "12714011449706528785"
     },
     "user_tz": -330
    },
    "id": "inR6csUMjINu",
    "outputId": "0cbf2a57-e65d-4db0-a7db-ead38b6c2e19"
   },
   "outputs": [
    {
     "name": "stdout",
     "output_type": "stream",
     "text": [
      "CPU times: user 34.6 s, sys: 598 ms, total: 35.2 s\n",
      "Wall time: 35.2 s\n"
     ]
    }
   ],
   "source": [
    "%%time\n",
    "N=1000000\n",
    "learning_rate=0.001\n",
    "epochs=2000\n",
    "w=torch.rand(N,requires_grad=True)\n",
    "b=torch.ones(1,requires_grad=True)\n",
    "#print(torch.mean(w).item(),b.item())\n",
    "for i in range(epochs):\n",
    "  x=torch.randn(N)\n",
    "  y=torch.dot(3*torch.ones(N),x)-2\n",
    "  y_hat=torch.dot(w,x)+b\n",
    "  loss=torch.sum((y_hat-y)**2)\n",
    "  loss.backward()\n",
    "\n",
    "  with torch.no_grad():\n",
    "    w-=learning_rate*w.grad\n",
    "    b-=learning_rate*b.grad\n",
    "\n",
    "    w.grad.zero_()\n",
    "    b.grad.zero_()\n",
    "\n",
    "    #print(torch.mean(w).item(),b.item())\n"
   ]
  },
  {
   "cell_type": "markdown",
   "metadata": {
    "id": "HeDf9KSZm9hc"
   },
   "source": [
    "# USING GPU"
   ]
  },
  {
   "cell_type": "code",
   "execution_count": null,
   "metadata": {
    "colab": {
     "base_uri": "https://localhost:8080/"
    },
    "executionInfo": {
     "elapsed": 3029,
     "status": "ok",
     "timestamp": 1612368796850,
     "user": {
      "displayName": "Abirami Muthu",
      "photoUrl": "",
      "userId": "12714011449706528785"
     },
     "user_tz": -330
    },
    "id": "eThqCA0cnAC4",
    "outputId": "ec4f87d0-7f57-4b0d-ebe0-d9be97f87304"
   },
   "outputs": [
    {
     "name": "stdout",
     "output_type": "stream",
     "text": [
      "CPU times: user 1.64 s, sys: 122 ms, total: 1.76 s\n",
      "Wall time: 1.8 s\n"
     ]
    }
   ],
   "source": [
    "%%time\n",
    "N=1000000\n",
    "learning_rate=0.001\n",
    "epochs=2000\n",
    "w=torch.rand(N,requires_grad=True,device=cuda0)\n",
    "b=torch.ones(1,requires_grad=True,device=cuda0)\n",
    "#print(torch.mean(w).item(),b.item())\n",
    "for i in range(epochs):\n",
    "  x=torch.randn(N,device=cuda0)\n",
    "  y=torch.dot(3*torch.ones(N,device=cuda0),x)-2\n",
    "  y_hat=torch.dot(w,x)+b\n",
    "  loss=torch.sum((y_hat-y)**2)\n",
    "  loss.backward()\n",
    "\n",
    "  with torch.no_grad():\n",
    "    w-=learning_rate*w.grad\n",
    "    b-=learning_rate*b.grad\n",
    "\n",
    "    w.grad.zero_()\n",
    "    b.grad.zero_()\n",
    "\n",
    "    #print(torch.mean(w).item(),b.item())"
   ]
  },
  {
   "cell_type": "code",
   "execution_count": null,
   "metadata": {
    "id": "K_BtlYn4nf_5"
   },
   "outputs": [],
   "source": []
  }
 ],
 "metadata": {
  "accelerator": "GPU",
  "colab": {
   "collapsed_sections": [
    "m5QSCUqJjAay",
    "HeDf9KSZm9hc"
   ],
   "name": "Pytorch basics.ipynb",
   "provenance": []
  },
  "kernelspec": {
   "display_name": "Python 3",
   "language": "python",
   "name": "python3"
  },
  "language_info": {
   "codemirror_mode": {
    "name": "ipython",
    "version": 3
   },
   "file_extension": ".py",
   "mimetype": "text/x-python",
   "name": "python",
   "nbconvert_exporter": "python",
   "pygments_lexer": "ipython3",
   "version": "3.8.8"
  }
 },
 "nbformat": 4,
 "nbformat_minor": 1
}
